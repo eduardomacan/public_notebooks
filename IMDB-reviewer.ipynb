{
 "cells": [
  {
   "cell_type": "code",
   "execution_count": 1,
   "id": "debe9dd9-c9bc-480c-8798-df957280e24b",
   "metadata": {},
   "outputs": [],
   "source": [
    "# dataset url https://www.kaggle.com/datasets/crisbam/imdb-dataset-of-65k-movie-reviews-and-translation\n",
    "# baixe o arquivo IMDB-Dataset.csv que contém reviews de filmes do IMDB traduzidos (automaticamente, mas tudo bem)."
   ]
  },
  {
   "cell_type": "code",
   "execution_count": 38,
   "id": "7e69c77b-f3eb-4ae3-815e-a9191e121220",
   "metadata": {},
   "outputs": [],
   "source": [
    "import csv\n",
    "import time\n",
    "import random"
   ]
  },
  {
   "cell_type": "code",
   "execution_count": 39,
   "id": "b232d85d-fb0b-421e-89d6-044b52549b80",
   "metadata": {},
   "outputs": [],
   "source": [
    "import ollama"
   ]
  },
  {
   "cell_type": "code",
   "execution_count": 30,
   "id": "257fae91-0980-4d2f-93da-c1542625b64a",
   "metadata": {},
   "outputs": [],
   "source": [
    "# vamos carregar tudo em memória :P :) Apenas os campos que interessam aqui.\n",
    "# o 'DATASET' será um array de tuplas com as seguintes informações: \n",
    "#   - número da linha no CSV original\n",
    "#   - nota da avaliação\n",
    "#   - avaliação traduzida para o português\n",
    "\n",
    "\n",
    "DATASET=[]\n",
    "\n",
    "count=1\n",
    "with open('IMDB-Dataset.csv') as csv_file:\n",
    "    data_reader = csv.reader(csv_file, delimiter=',', quotechar='\"')\n",
    "    next(data_reader, None) #skip header\n",
    "    for row in data_reader:\n",
    "        DATASET.append((count,row[0],row[3]))\n",
    "        count+=1\n"
   ]
  },
  {
   "cell_type": "code",
   "execution_count": 80,
   "id": "72bd2321-aebb-4b73-b141-8387c1920c43",
   "metadata": {},
   "outputs": [],
   "source": [
    "random.shuffle(DATASET) # embaralhar o DATASET para pegar avaliações diferentes a cada execução, embaralhe de novo quando quiser variar"
   ]
  },
  {
   "cell_type": "code",
   "execution_count": 81,
   "id": "a8bb07b7-9cf2-4275-90db-4a3be3a28f0e",
   "metadata": {},
   "outputs": [],
   "source": [
    "MODEL='aya' # Modelo a usar. Baixe e experimente também outros LLMs, como o llama3.2 da Meta...\n",
    "NUM_REVIEWS=5 # quantas avaliações usar em cada loop\n",
    "TEMPERATURE=0.5 # 0 =  \"nada criativo\", 1 = \"máximo criativo\"\n",
    "\n",
    "# veja opções possíveis no link a seguir. Experimente com outras opções, como top_k: https://github.com/ollama/ollama/blob/main/docs/modelfile.md\n",
    "options={\n",
    "    'seed' : 42, #comente esta linha para que as respostas sejam sempre as mesmas para um mesmo prompt\n",
    "    'temperature': TEMPERATURE,\n",
    "}"
   ]
  },
  {
   "cell_type": "code",
   "execution_count": 82,
   "id": "3b522254-3562-424a-baeb-70d8782db3a5",
   "metadata": {},
   "outputs": [
    {
     "name": "stdout",
     "output_type": "stream",
     "text": [
      "---\n",
      "Index: 0\n",
      "Review #64599\n",
      "Nota humana: 5.0\n",
      "Nota: 5 \n",
      "\n",
      "---\n",
      "\n",
      "Hoje em dia, parece que a maioria dos críticos fará qualquer coisa com um filme apenas para parecer onisciente, eclético e meticuloso. Na minha opinião sincera, este filme não é tão ruim assim. A química entre os personagens principais não é necessariamente terrível; na verdade, o desapego perfeito ao tom do filme pode ser interpretado como uma representação precisa das complexidades dos relacionamentos modernos. O filme também não é extravagante ou inovador; pelo contrário, ideias e conceitos são emprestados de outras obras, como \"Titanic\" ou \"City of Angels\". Embora o diálogo possa ser melhorado, não é tão ruim a ponto de tornar o filme medíocre e digno de críticas severas. Na verdade, filmes de Hollywood semelhantes muitas vezes recebem menos atenção crítica. É frustrante ver um filme sendo crucificado enquanto outros, igualmente fracos, passam despercebidos com rótulos de \"melhor filme do ano\".\n",
      "---\n",
      "Index: 1\n",
      "Review #77823\n",
      "Nota humana: 6.0\n",
      "Nota: 7/10 \n",
      "\n",
      "---\n",
      "\n",
      "The Runner é um thriller político intrigante que oferece uma visão profunda da vida de um senador e dos dramas que ele enfrenta. A atuação de Nicolas Cage é notável, apresentando um personagem complexo e falho de maneira convincente, dando ao público uma perspectiva íntima de seus pensamentos e lutas. O filme explora vários aspectos do drama, incluindo escândalos e relacionamentos públicos, oferecendo um retrato abrangente da vida de um político. Embora os personagens coadjuvantes também sejam excelentes, o ritmo é afetado pela transição entre as subtramas, que às vezes pode ser confusa. No geral, The Runner é um drama absorvente com um elenco forte, apresentando uma visão única do mundo da política e dos indivíduos que o habitam.\n",
      "---\n",
      "Index: 2\n",
      "Review #38006\n",
      "Nota humana: 3.0\n",
      "Nota: 6 \n",
      "\n",
      "---\n",
      "\n",
      "Eu não consegui me conectar com \"Elementary\". Embora eu seja um grande fã do personagem Sherlock Holmes, este programa não conseguiu capturá-lo adequadamente. A principal questão é o elenco e a escrita; em particular, o ator que interpreta Holmes parece uma imitação barata do personagem original. Seu comportamento é irritante e levemente efeminado, muito diferente da imagem de um anti-herói carismático e intrépido que Holmes geralmente evoca. Tentei gostar do programa, especialmente porque tinha alguns elementos positivos, como o personagem Watson, interpretado por Lucy. No entanto, após três episódios, percebi que não conseguia me envolver com a história ou os personagens, então decidi parar de assistir.\n",
      "---\n",
      "Index: 3\n",
      "Review #75057\n",
      "Nota humana: 6.0\n",
      "Nota: 7 \n",
      "\n",
      "Este filme de zumbi de baixo orçamento é um divertimento sangrento e cheio de piadas para os fãs de horror e cinema B. Com um cenário restrito a uma sala pequena, o filme faz bom uso da sua atmosfera física, e a maquiagem e efeitos especiais são acima da média para um produção independente. A atuação pode ser um pouco desajeitada, mas a trilha sonora e a música incidental são excelentes e certamente ficarão na sua cabeça depois de assistidas. O roteiro é bem escrito e repleto de referências a filmes cult, garantindo uma experiência agradável e memorável.\n",
      "---\n",
      "Index: 4\n",
      "Review #9823\n",
      "Nota humana: 1.0\n",
      "Nota: 3/10 \n",
      "\n",
      "Resumo: Veere Di Wedding é um drama sobre a vida de quatro amigas e seus relacionamentos. Embora o trailer pareça promissor, o filme deixa a desejar, com um roteiro fraco e direção inadequada. As performances das protagonistas são o único ponto positivo, mas não conseguem salvar o filme da decepção que é a história.\n",
      "\n",
      "=======\n",
      "Respostas 5\n",
      "Tempo médio: 11.01s por resposta\n",
      "Tokens Entrada totais 1668\n",
      "Tokens Saída totais 726\n"
     ]
    }
   ],
   "source": [
    "count=0\n",
    "in_tokens=0\n",
    "out_tokens=0\n",
    "start_time=time.time()\n",
    "for review in DATASET[:NUM_REVIEWS]:\n",
    "    prompt=f'dê uma nota entre 1 e 10 e um resumo, de acordo com a avaliação a seguir. \\\n",
    "             Separe a nota e o resumo com uma linha em branco. O resumo não deve passar de um parágrafo, \\\n",
    "             não introduza o resumo: {review[2]}'\n",
    "    answer=ollama.generate(model='aya', \n",
    "                                options=options,\n",
    "                                prompt=prompt\n",
    "                )\n",
    "    \n",
    "    print('---',f'Index: {count}',f'Review #{review[0]}',f'Nota humana: {review[1]}',f\"{answer['response']}\", sep='\\n')\n",
    "    count+=1\n",
    "    in_tokens+=answer['prompt_eval_count']\n",
    "    out_tokens+=answer['eval_count']\n",
    "\n",
    "end_time=time.time()\n",
    "\n",
    "print('\\n=======',\n",
    "      f'Respostas {count}',\n",
    "      f'Tempo médio: {(end_time-start_time)/count:.2f}s por resposta',\n",
    "      f'Tokens Entrada totais {in_tokens}',\n",
    "      f'Tokens Saída totais {out_tokens}', sep='\\n'\n",
    ")\n",
    "\n",
    "\n",
    "# Um exercício interessante é contar o número de palavras do prompt e da resposta e ver como isso se correlaciona com tokens.\n",
    "# Fica como exercício para o leitor :P "
   ]
  },
  {
   "cell_type": "code",
   "execution_count": 83,
   "id": "edb02d43-769a-4c71-aa6c-1c12f1d6086a",
   "metadata": {},
   "outputs": [
    {
     "data": {
      "text/plain": [
       "'Hoje em dia, parece que a maioria dos críticos fará qualquer coisa com um filme apenas por parecer onisciente, ecelonístico e meticuloso. De fato, se não fosse a minha crescente antipatia pela natureza quixotesca absoluta dos críticos (a maioria dos meus amigos nem se importa mais em ler slogans. Eles passam pelo boca a boca), eu não me sentiria compelido a defender este filme. Na minha opinião sincera, este filme não é tão ruim assim. Eu não o compraria nem o recomendaria, mas certamente não o criticaria. Vamos fazer uma pequena dissecação de algumas das críticas feitas a este filme. A química é terrível: Bem, NÃO, na verdade. O que está sendo confundido com falta de química é um desapego perfeito para o tom do filme. Ambos os personagens principais têm aparências mentais. O personagem de Winona está escondendo algo e o personagem de Gere sente isso. Adicione isso ao seu dilema emocional (ele nunca deu a mínima para ninguém antes e você pode ver por que os personagens não estão pirando na cama. O filme é extravagante: como você chama de titânico? City of Angels? esses corpos de trabalho são originais. Isso pode ser um choque para você, mas não existe uma idéia absolutamente original. Toda idéia ou conceito empresta ingredientes de outra avenida. Veja a matriz. O script é redundante: O diálogo é horrível, mas, novamente, o diálogo também foi em Missão Impossível. Não espero que este filme medíocre mude o mundo ou que tenha um sério impacto na cultura ou no que você tem. Um filme de Hollywood de queijo como este sendo crucificado quando outros são deixados para voar e são chamados de \"o melhor filme do ano\". Algo está errado. Eu não gosto disso. Não faz nenhum sentido.'"
      ]
     },
     "execution_count": 83,
     "metadata": {},
     "output_type": "execute_result"
    }
   ],
   "source": [
    "# veja as avaliações originais para comparar com o resumo que o llm fez e confira se você concorda \n",
    "# com o resumo feito e com a nota dada... :)\n",
    "# Também vale avaliar se a nota do LLM a partir do texto corresponde à nota do Humano que avaliou...\n",
    "\n",
    "DATASET[0][2] \n"
   ]
  },
  {
   "cell_type": "code",
   "execution_count": null,
   "id": "bda17718-51c1-416a-b970-413e22b1f6b2",
   "metadata": {},
   "outputs": [],
   "source": []
  }
 ],
 "metadata": {
  "kernelspec": {
   "display_name": "Python 3 (ipykernel)",
   "language": "python",
   "name": "python3"
  },
  "language_info": {
   "codemirror_mode": {
    "name": "ipython",
    "version": 3
   },
   "file_extension": ".py",
   "mimetype": "text/x-python",
   "name": "python",
   "nbconvert_exporter": "python",
   "pygments_lexer": "ipython3",
   "version": "3.11.6"
  }
 },
 "nbformat": 4,
 "nbformat_minor": 5
}
